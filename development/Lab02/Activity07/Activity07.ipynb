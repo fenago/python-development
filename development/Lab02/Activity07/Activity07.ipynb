{
 "cells": [
  {
   "cell_type": "code",
   "execution_count": null,
   "metadata": {},
   "outputs": [],
   "source": [
    "employees = [\n",
    "    {\"name\": \"John Mckee\", \"age\":38, \"department\":\"Sales\"},\n",
    "    {\"name\": \"Lisa Crawford\", \"age\":29, \"department\":\"Marketing\"},\n",
    "    {\"name\": \"Sujan Patel\", \"age\":33, \"department\":\"HR\"}\n",
    "]\n",
    "\n",
    "print(employees)"
   ]
  },
  {
   "cell_type": "code",
   "execution_count": null,
   "metadata": {},
   "outputs": [],
   "source": [
    "for employee in employees:\n",
    "    print(\"Name:\", employee['name'])\n",
    "    print(\"Age:\", employee['age'])\n",
    "    print(\"Department:\", employee['department'])\n",
    "    print('-' * 20)"
   ]
  },
  {
   "cell_type": "code",
   "execution_count": null,
   "metadata": {},
   "outputs": [],
   "source": [
    "for employee in employees:\n",
    "    if employee['name'] == 'Sujan Patel':\n",
    "        print(\"Name:\", employee['name'])\n",
    "        print(\"Age:\", employee['age'])\n",
    "        print(\"Department:\", employee['department'])\n",
    "        print('-' * 20)"
   ]
  },
  {
   "cell_type": "code",
   "execution_count": null,
   "metadata": {},
   "outputs": [],
   "source": []
  }
 ],
 "metadata": {
  "kernelspec": {
   "display_name": "Python 3",
   "language": "python",
   "name": "python3"
  },
  "language_info": {
   "codemirror_mode": {
    "name": "ipython",
    "version": 3
   },
   "file_extension": ".py",
   "mimetype": "text/x-python",
   "name": "python",
   "nbconvert_exporter": "python",
   "pygments_lexer": "ipython3",
   "version": "3.8.6"
  }
 },
 "nbformat": 4,
 "nbformat_minor": 2
}
