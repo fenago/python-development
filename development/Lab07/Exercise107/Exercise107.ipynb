{
 "cells": [
  {
   "cell_type": "code",
   "execution_count": null,
   "metadata": {
    "colab": {},
    "colab_type": "code",
    "id": "Mcj5Rr4RkrOh"
   },
   "outputs": [],
   "source": [
    ">>> class Primes:\n",
    "...     def __init__(self):\n",
    "...         self.current = 2\n",
    "...     def __iter__(self):\n",
    "...         return self\n",
    "...     def __next__(self):\n",
    "...         while True:\n",
    "...             current = self.current\n",
    "...             square_root = int(current ** 0.5)\n",
    "...             is_prime = True\n",
    "...             if square_root >= 2:\n",
    "...                 for i in range(2, square_root + 1):\n",
    "...                     if current % i == 0:\n",
    "...                         is_prime = False\n",
    "...                         break\n",
    "...             self.current += 1\n",
    "...             if is_prime:\n",
    "...                 return current"
   ]
  },
  {
   "cell_type": "code",
   "execution_count": null,
   "metadata": {
    "colab": {
     "base_uri": "https://localhost:8080/",
     "height": 325
    },
    "colab_type": "code",
    "id": "y-FZ2deYk3rF",
    "outputId": "6858d8b0-05cd-4c50-97be-e4df05080f24"
   },
   "outputs": [],
   "source": [
    ">>> [p for p in Primes() if p < 100]"
   ]
  },
  {
   "cell_type": "code",
   "execution_count": null,
   "metadata": {
    "colab": {
     "base_uri": "https://localhost:8080/",
     "height": 35
    },
    "colab_type": "code",
    "id": "M8-pv9EdlvCE",
    "outputId": "7f756d0d-9e71-4693-a9eb-525010a806c2"
   },
   "outputs": [],
   "source": [
    ">>> import itertools\n",
    ">>> print([p for p in itertools.takewhile(lambda x: x<100, Primes())])\n"
   ]
  }
 ],
 "metadata": {
  "colab": {
   "name": "Exercise09.ipynb",
   "provenance": [],
   "version": "0.3.2"
  },
  "kernelspec": {
   "display_name": "Python 3",
   "language": "python",
   "name": "python3"
  },
  "language_info": {
   "codemirror_mode": {
    "name": "ipython",
    "version": 3
   },
   "file_extension": ".py",
   "mimetype": "text/x-python",
   "name": "python",
   "nbconvert_exporter": "python",
   "pygments_lexer": "ipython3",
   "version": "3.8.6"
  }
 },
 "nbformat": 4,
 "nbformat_minor": 1
}
