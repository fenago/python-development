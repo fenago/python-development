{
 "cells": [
  {
   "cell_type": "code",
   "execution_count": null,
   "metadata": {
    "colab": {
     "base_uri": "https://localhost:8080/",
     "height": 35
    },
    "colab_type": "code",
    "id": "WCHIAGNUhmDy",
    "outputId": "cac1f7e9-baf2-4f94-873e-d5a838da9adf"
   },
   "outputs": [],
   "source": [
    ">>> names = [\"Eric\", \"Graham\", \"Terry\", \"John\", \"Terry\"]\n",
    ">>> print({k:len(k) for k in [\"Eric\", \"Graham\", \"Terry\", \"John\", \"Terry\"]})"
   ]
  }
 ],
 "metadata": {
  "colab": {
   "name": "Exercise04.ipynb",
   "provenance": [],
   "version": "0.3.2"
  },
  "kernelspec": {
   "display_name": "Python 3",
   "language": "python",
   "name": "python3"
  },
  "language_info": {
   "codemirror_mode": {
    "name": "ipython",
    "version": 3
   },
   "file_extension": ".py",
   "mimetype": "text/x-python",
   "name": "python",
   "nbconvert_exporter": "python",
   "pygments_lexer": "ipython3",
   "version": "3.8.6"
  }
 },
 "nbformat": 4,
 "nbformat_minor": 1
}
