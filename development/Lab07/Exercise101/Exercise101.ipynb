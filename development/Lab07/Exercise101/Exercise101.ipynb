{
 "cells": [
  {
   "cell_type": "code",
   "execution_count": null,
   "metadata": {
    "colab": {
     "base_uri": "https://localhost:8080/",
     "height": 35
    },
    "colab_type": "code",
    "id": "cEFb7FzxhHsG",
    "outputId": "9473e122-46b6-4f27-ecbb-e8ef1c79dcc8"
   },
   "outputs": [],
   "source": [
    ">>> [a + b for a in [0,1,2,3] for b in [4,3,2,1]]"
   ]
  },
  {
   "cell_type": "code",
   "execution_count": null,
   "metadata": {
    "colab": {
     "base_uri": "https://localhost:8080/",
     "height": 35
    },
    "colab_type": "code",
    "id": "oABPdQ-fhVnh",
    "outputId": "0c909853-19b1-4e34-e9d7-63735c3ece09"
   },
   "outputs": [],
   "source": [
    ">>> {a+b for a in [0,1,2,3] for b in [4,3,2,1]}"
   ]
  }
 ],
 "metadata": {
  "colab": {
   "name": "Exercise03.ipynb",
   "provenance": [],
   "version": "0.3.2"
  },
  "kernelspec": {
   "display_name": "Python 3",
   "language": "python",
   "name": "python3"
  },
  "language_info": {
   "codemirror_mode": {
    "name": "ipython",
    "version": 3
   },
   "file_extension": ".py",
   "mimetype": "text/x-python",
   "name": "python",
   "nbconvert_exporter": "python",
   "pygments_lexer": "ipython3",
   "version": "3.8.6"
  }
 },
 "nbformat": 4,
 "nbformat_minor": 1
}
