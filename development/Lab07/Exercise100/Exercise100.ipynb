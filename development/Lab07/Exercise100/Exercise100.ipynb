{
 "cells": [
  {
   "cell_type": "code",
   "execution_count": null,
   "metadata": {
    "colab": {
     "base_uri": "https://localhost:8080/",
     "height": 35
    },
    "colab_type": "code",
    "id": "Eokj8XQ4fVvn",
    "outputId": "6ecf898c-e7ab-408a-850a-b4a77599aadf"
   },
   "outputs": [],
   "source": [
    "print([x*y for x in ['spam', 'eggs', 'chips'] for y in [1,2,3]])"
   ]
  },
  {
   "cell_type": "code",
   "execution_count": null,
   "metadata": {
    "colab": {
     "base_uri": "https://localhost:8080/",
     "height": 35
    },
    "colab_type": "code",
    "id": "QfU2sA04gCCX",
    "outputId": "02058b34-f747-415f-c954-77dbaa4dcc8e"
   },
   "outputs": [],
   "source": [
    "print([x*y for x in [1,2,3] for y in ['spam', 'eggs', 'chips']])"
   ]
  }
 ],
 "metadata": {
  "colab": {
   "name": "Exercise02.ipynb",
   "provenance": [],
   "version": "0.3.2"
  },
  "kernelspec": {
   "display_name": "Python 3",
   "language": "python",
   "name": "python3"
  },
  "language_info": {
   "codemirror_mode": {
    "name": "ipython",
    "version": 3
   },
   "file_extension": ".py",
   "mimetype": "text/x-python",
   "name": "python",
   "nbconvert_exporter": "python",
   "pygments_lexer": "ipython3",
   "version": "3.8.6"
  }
 },
 "nbformat": 4,
 "nbformat_minor": 1
}
