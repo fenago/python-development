{
 "cells": [
  {
   "cell_type": "code",
   "execution_count": null,
   "metadata": {
    "colab": {
     "base_uri": "https://localhost:8080/",
     "height": 35
    },
    "colab_type": "code",
    "id": "vFgNlNean6Nr",
    "outputId": "722f50c8-a333-46a3-a2ab-742df4ed1e2f"
   },
   "outputs": [],
   "source": [
    ">>> import re\n",
    ">>> title = \"And now for something completely different\"\n",
    ">>> pattern = \"(\\w)\\\\1+\"\n",
    ">>> print(re.search(pattern, title))"
   ]
  }
 ],
 "metadata": {
  "colab": {
   "name": "Exercise12.ipynb",
   "provenance": [],
   "version": "0.3.2"
  },
  "kernelspec": {
   "display_name": "Python 3",
   "language": "python",
   "name": "python3"
  },
  "language_info": {
   "codemirror_mode": {
    "name": "ipython",
    "version": 3
   },
   "file_extension": ".py",
   "mimetype": "text/x-python",
   "name": "python",
   "nbconvert_exporter": "python",
   "pygments_lexer": "ipython3",
   "version": "3.8.6"
  }
 },
 "nbformat": 4,
 "nbformat_minor": 1
}
