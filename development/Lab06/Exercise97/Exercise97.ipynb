{
 "cells": [
  {
   "cell_type": "code",
   "execution_count": null,
   "metadata": {},
   "outputs": [],
   "source": [
    "import time\n",
    "\n",
    "def func(x):\n",
    "    time.sleep(1)\n",
    "    print(f\"Heavy operation for {x}\")\n",
    "    return x * 10"
   ]
  },
  {
   "cell_type": "code",
   "execution_count": null,
   "metadata": {},
   "outputs": [],
   "source": [
    "print(\"Func returned:\", func(1))\n",
    "print(\"Func returned:\", func(1))"
   ]
  },
  {
   "cell_type": "code",
   "execution_count": null,
   "metadata": {},
   "outputs": [],
   "source": [
    "import functools\n",
    "import time\n",
    "\n",
    "@functools.lru_cache()\n",
    "def func(x):\n",
    "    time.sleep(1)\n",
    "    print(f\"Heavy operation for {x}\")\n",
    "    return x * 10"
   ]
  },
  {
   "cell_type": "code",
   "execution_count": null,
   "metadata": {},
   "outputs": [],
   "source": [
    "print(\"Func returned:\", func(1))\n",
    "print(\"Func returned:\", func(1))\n",
    "print(\"Func returned:\", func(2))"
   ]
  },
  {
   "cell_type": "code",
   "execution_count": null,
   "metadata": {},
   "outputs": [],
   "source": [
    "import functools\n",
    "import time\n",
    "\n",
    "@functools.lru_cache(maxsize=2)\n",
    "def func(x):\n",
    "    time.sleep(1)\n",
    "    print(f\"Heavy operation for {x}\")\n",
    "    return x * 10"
   ]
  },
  {
   "cell_type": "code",
   "execution_count": null,
   "metadata": {},
   "outputs": [],
   "source": [
    "print(\"Func returned:\", func(1))\n",
    "print(\"Func returned:\", func(2))\n",
    "print(\"Func returned:\", func(3))\n",
    "print(\"Func returned:\", func(3))\n",
    "print(\"Func returned:\", func(2))\n",
    "print(\"Func returned:\", func(1))"
   ]
  },
  {
   "cell_type": "code",
   "execution_count": null,
   "metadata": {},
   "outputs": [],
   "source": [
    "import functools\n",
    "import time\n",
    "\n",
    "def func(x):\n",
    "    time.sleep(1)\n",
    "    print(f\"Heavy operation for {x}\")\n",
    "    return x * 10\n",
    "\n",
    "cached_func = functools.lru_cache()(func)"
   ]
  },
  {
   "cell_type": "code",
   "execution_count": null,
   "metadata": {},
   "outputs": [],
   "source": [
    "print(\"Cached func returned:\", cached_func(1))\n",
    "print(\"Cached func returned:\", cached_func(1))\n",
    "print(\"Func returned:\", func(1))\n",
    "print(\"Func returned:\", func(1))"
   ]
  }
 ],
 "metadata": {
  "kernelspec": {
   "display_name": "Python 3",
   "language": "python",
   "name": "python3"
  },
  "language_info": {
   "codemirror_mode": {
    "name": "ipython",
    "version": 3
   },
   "file_extension": ".py",
   "mimetype": "text/x-python",
   "name": "python",
   "nbconvert_exporter": "python",
   "pygments_lexer": "ipython3",
   "version": "3.8.6"
  }
 },
 "nbformat": 4,
 "nbformat_minor": 2
}
